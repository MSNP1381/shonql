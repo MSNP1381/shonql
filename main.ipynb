{
 "cells": [
  {
   "cell_type": "code",
   "execution_count": 1,
   "metadata": {},
   "outputs": [],
   "source": [
    "import black\n",
    "\n",
    "\n",
    "def print_res(old_d:dict,result, just_ans=True):\n",
    "    d=old_d.copy()\n",
    "    d['tools']=eval(d['tools'])\n",
    "    if just_ans:\n",
    "        del d['tools']\n",
    "    d['answers']=eval(d['answers'])\n",
    "    print(\"-\"*12,end=\"\\n\\n\\n\")\n",
    "    print(black.format_str(str(d), mode=black.Mode()))\n",
    "    print(\"-\"*12,end=\"\\n\\n\\n\")\n",
    "    print(result)"
   ]
  },
  {
   "cell_type": "code",
   "execution_count": 3,
   "metadata": {},
   "outputs": [],
   "source": [
    "import pandas as pd\n",
    "\n",
    "df = pd.read_json(\"hf://datasets/Salesforce/xlam-function-calling-60k/xlam_function_calling_60k.json\")\n",
    "# df=pd.read_json(\"./xlam_function_calling_60k.json\")"
   ]
  },
  {
   "cell_type": "code",
   "execution_count": 6,
   "metadata": {},
   "outputs": [
    {
     "data": {
      "text/plain": [
       "True"
      ]
     },
     "execution_count": 6,
     "metadata": {},
     "output_type": "execute_result"
    }
   ],
   "source": [
    "from dotenv import load_dotenv\n",
    "load_dotenv()"
   ]
  },
  {
   "cell_type": "code",
   "execution_count": 7,
   "metadata": {},
   "outputs": [],
   "source": [
    "from langchain_openai import ChatOpenAI\n",
    "from langchain.prompts import ChatPromptTemplate\n",
    "from langchain_core.output_parsers.string import  StrOutputParser \n",
    "from prompts import main_prompt\n",
    "prompt=ChatPromptTemplate.from_messages([(\"system\",main_prompt),('user','{query}')])\n",
    "llm=prompt|ChatOpenAI(model='gpt-4o-mini',temperature=0)|StrOutputParser()"
   ]
  },
  {
   "cell_type": "code",
   "execution_count": 8,
   "metadata": {},
   "outputs": [
    {
     "name": "stdout",
     "output_type": "stream",
     "text": [
      "------------\n",
      "\n",
      "\n",
      "{\n",
      "    \"id\": 6,\n",
      "    \"query\": \"Identify the ID of 'Pulp Fiction' and search for torrents related to it.\",\n",
      "    \"answers\": [\n",
      "        {\"name\": \"get_id\", \"arguments\": {\"q\": \"Pulp Fiction\"}},\n",
      "        {\n",
      "            \"name\": \"search_torrents\",\n",
      "            \"arguments\": {\"keywords\": \"Pulp Fiction\", \"quantity\": 10},\n",
      "        },\n",
      "    ],\n",
      "}\n",
      "\n",
      "------------\n",
      "\n",
      "\n",
      "```shonqol\n",
      "movie_id = get_id(\"Pulp Fiction\");\n",
      "torrents = search_torrents(concat(\"Pulp Fiction\", \" torrent\"), 40);\n",
      "```\n"
     ]
    }
   ],
   "source": [
    "d=df.iloc[6].to_dict()\n",
    "result=llm.invoke(\n",
    "    d\n",
    ")\n",
    "print_res(d,result)\n"
   ]
  },
  {
   "cell_type": "code",
   "execution_count": 9,
   "metadata": {},
   "outputs": [
    {
     "name": "stdout",
     "output_type": "stream",
     "text": [
      "------------\n",
      "\n",
      "\n",
      "{\n",
      "    \"id\": 9,\n",
      "    \"query\": \"Is 'https://www.apple.com' available in the Wayback Machine on September 9, 2015?\",\n",
      "    \"answers\": [\n",
      "        {\n",
      "            \"name\": \"availability\",\n",
      "            \"arguments\": {\"url\": \"https://www.apple.com\", \"timestamp\": \"20150909\"},\n",
      "        }\n",
      "    ],\n",
      "}\n",
      "\n",
      "------------\n",
      "\n",
      "\n",
      "```shonqol\n",
      "url = \"https://www.apple.com\";\n",
      "timestamp = \"20150909\";\n",
      "availabilityStatus = availability(url, timestamp);\n",
      "print(availabilityStatus);\n",
      "```\n"
     ]
    }
   ],
   "source": [
    "d=df.iloc[9].to_dict()\n",
    "result=llm.invoke(\n",
    "    d\n",
    ")\n",
    "print_res(d,result)\n"
   ]
  },
  {
   "cell_type": "code",
   "execution_count": 10,
   "metadata": {},
   "outputs": [
    {
     "name": "stdout",
     "output_type": "stream",
     "text": [
      "------------\n",
      "\n",
      "\n",
      "{\n",
      "    \"id\": 103,\n",
      "    \"query\": \"What is the recommended daily calorie intake and macronutrient distribution for a 30-year-old male, weighing 75 kg, 180 cm tall, moderately active, aiming to maintain weight?\",\n",
      "    \"answers\": [\n",
      "        {\n",
      "            \"name\": \"calculate_calorie_intake\",\n",
      "            \"arguments\": {\n",
      "                \"weight_kg\": 75,\n",
      "                \"height_cm\": 180,\n",
      "                \"age\": 30,\n",
      "                \"sex\": \"male\",\n",
      "                \"activity_level\": 3,\n",
      "                \"goal\": \"maintain\",\n",
      "            },\n",
      "        }\n",
      "    ],\n",
      "}\n",
      "\n",
      "------------\n",
      "\n",
      "\n",
      "```shonqol\n",
      "calorie_intake = calculate_calorie_intake(\n",
      "    weight_kg = 75,\n",
      "    height_cm = 180,\n",
      "    age = 30,\n",
      "    sex = \"male\",\n",
      "    activity_level = 3,\n",
      "    goal = \"maintain\"\n",
      ");\n",
      "```\n"
     ]
    }
   ],
   "source": [
    "d=df.iloc[103].to_dict()\n",
    "result=llm.invoke(\n",
    "    d\n",
    ")\n",
    "print_res(d,result,just_ans=False)\n"
   ]
  },
  {
   "cell_type": "code",
   "execution_count": 13,
   "metadata": {},
   "outputs": [
    {
     "name": "stdout",
     "output_type": "stream",
     "text": [
      "------------\n",
      "\n",
      "\n",
      "{\n",
      "    \"id\": 586,\n",
      "    \"query\": \"I'm curious about the neuronal activity rate when the synaptic input rate is 100 per second, with a synaptic weight of 0.5 and a decay constant of 0.05. Also, could you check if 17 is a prime number and solve the quadratic equation 2x^2 - 3x + 1 = 0?\",\n",
      "    \"answers\": [\n",
      "        {\n",
      "            \"name\": \"neuronal_activity_rate\",\n",
      "            \"arguments\": {\n",
      "                \"synaptic_input_rate\": 100,\n",
      "                \"synaptic_weight\": 0.5,\n",
      "                \"decay_constant\": 0.05,\n",
      "            },\n",
      "        },\n",
      "        {\"name\": \"is_prime\", \"arguments\": {\"num\": 17}},\n",
      "        {\"name\": \"solve_quadratic\", \"arguments\": {\"a\": 2, \"b\": -3, \"c\": 1}},\n",
      "    ],\n",
      "}\n",
      "\n",
      "------------\n",
      "\n",
      "\n",
      "Here is the Shonqol code that calculates the neuronal activity rate, checks if 17 is a prime number, and solves the quadratic equation \\(2x^2 - 3x + 1 = 0\\):\n",
      "\n",
      "```shonqol\n",
      "neuronal_activity = neuronal_activity_rate(100, 0.5, 0.05);\n",
      "is_seventeen_prime = is_prime(17);\n",
      "quadratic_roots = solve_quadratic(2, -3, 1);\n",
      "``` \n",
      "\n",
      "This code will compute the neuronal activity rate with the specified parameters, check the primality of 17, and find the roots of the quadratic equation.\n"
     ]
    }
   ],
   "source": [
    "d=df.iloc[586].to_dict()\n",
    "result=llm.invoke(\n",
    "    d\n",
    ")\n",
    "print_res(d,result,just_ans=True)\n"
   ]
  },
  {
   "cell_type": "code",
   "execution_count": 18,
   "metadata": {},
   "outputs": [
    {
     "name": "stdout",
     "output_type": "stream",
     "text": [
      "------------\n",
      "\n",
      "\n",
      "{\n",
      "    \"id\": 998,\n",
      "    \"query\": \"List all tokens on the Ethereum network.\",\n",
      "    \"answers\": [{\"name\": \"tokens\", \"arguments\": {\"network\": \"ethereum\"}}],\n",
      "}\n",
      "\n",
      "------------\n",
      "\n",
      "\n",
      "```shonqol\n",
      "tokensList = tokens(network=\"ethereum\");\n",
      "print(tokensList);\n",
      "```\n"
     ]
    }
   ],
   "source": [
    "d=df.iloc[998].to_dict()\n",
    "result=llm.invoke(\n",
    "    d\n",
    ")\n",
    "print_res(d,result,)\n"
   ]
  },
  {
   "cell_type": "code",
   "execution_count": 30,
   "metadata": {},
   "outputs": [
    {
     "name": "stdout",
     "output_type": "stream",
     "text": [
      "------------\n",
      "\n",
      "\n",
      "{\n",
      "    \"id\": 107,\n",
      "    \"query\": \"I'm conducting a research study and need the men's marks for points values of 10, 20, 30, 40, and 50 to observe the trend in the lower range.\",\n",
      "    \"answers\": [\n",
      "        {\"name\": \"marks_men_points\", \"arguments\": {\"points\": 10}},\n",
      "        {\"name\": \"marks_men_points\", \"arguments\": {\"points\": 20}},\n",
      "        {\"name\": \"marks_men_points\", \"arguments\": {\"points\": 30}},\n",
      "        {\"name\": \"marks_men_points\", \"arguments\": {\"points\": 40}},\n",
      "        {\"name\": \"marks_men_points\", \"arguments\": {\"points\": 50}},\n",
      "    ],\n",
      "}\n",
      "\n",
      "------------\n",
      "\n",
      "\n",
      "```shonqol\n",
      "marks_10 = marks_men_points(10);\n",
      "marks_20 = marks_men_points(20);\n",
      "marks_30 = marks_men_points(30);\n",
      "marks_40 = marks_men_points(40);\n",
      "marks_50 = marks_men_points(50);\n",
      "\n",
      "trend_data = concat(\n",
      "    concat(\"Marks for 10 points: \", marks_10), \n",
      "    concat(\"\\nMarks for 20 points: \", marks_20),\n",
      "    concat(\"\\nMarks for 30 points: \", marks_30),\n",
      "    concat(\"\\nMarks for 40 points: \", marks_40),\n",
      "    concat(\"\\nMarks for 50 points: \", marks_50)\n",
      ");\n",
      "\n",
      "print(trend_data);\n",
      "```\n"
     ]
    }
   ],
   "source": [
    "import json\n",
    "for _, row in df.iterrows():\n",
    "\n",
    "    v= json.loads(str(row['answers'])) \n",
    "    if not isinstance(v,list): continue\n",
    "    if len(v)>3:\n",
    "        d=row.to_dict()\n",
    "        break\n",
    "result=llm.invoke(\n",
    "        d\n",
    "    )\n",
    "print_res(d,result,just_ans=True)"
   ]
  },
  {
   "cell_type": "code",
   "execution_count": null,
   "metadata": {},
   "outputs": [
    {
     "name": "stdout",
     "output_type": "stream",
     "text": [
      "------------\n",
      "\n",
      "\n",
      "{\n",
      "    \"id\": 6,\n",
      "    \"query\": \"Identify the ID of 'Pulp Fiction' and search for torrents related to it.\",\n",
      "    \"answers\": [\n",
      "        {\"name\": \"get_id\", \"arguments\": {\"q\": \"Pulp Fiction\"}},\n",
      "        {\n",
      "            \"name\": \"search_torrents\",\n",
      "            \"arguments\": {\"keywords\": \"Pulp Fiction\", \"quantity\": 10},\n",
      "        },\n",
      "    ],\n",
      "}\n",
      "\n",
      "------------\n",
      "\n",
      "\n",
      "```shonqol\n",
      "movie_id = get_id(\"Pulp Fiction\");\n",
      "torrents = search_torrents(concat(\"Pulp Fiction\", \" torrent\"), 40);\n",
      "```\n"
     ]
    }
   ],
   "source": [
    "d=df.iloc[6].to_dict()\n",
    "result=llm.invoke(\n",
    "    d\n",
    ")\n",
    "print_res(d,result)\n"
   ]
  },
  {
   "cell_type": "code",
   "execution_count": null,
   "metadata": {},
   "outputs": [],
   "source": []
  }
 ],
 "metadata": {
  "kernelspec": {
   "display_name": "AI",
   "language": "python",
   "name": "python3"
  },
  "language_info": {
   "codemirror_mode": {
    "name": "ipython",
    "version": 3
   },
   "file_extension": ".py",
   "mimetype": "text/x-python",
   "name": "python",
   "nbconvert_exporter": "python",
   "pygments_lexer": "ipython3",
   "version": "3.11.8"
  }
 },
 "nbformat": 4,
 "nbformat_minor": 2
}
