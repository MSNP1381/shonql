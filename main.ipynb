{
 "cells": [
  {
   "cell_type": "code",
   "execution_count": 32,
   "metadata": {},
   "outputs": [
    {
     "name": "stdout",
     "output_type": "stream",
     "text": [
      "The autoreload extension is already loaded. To reload it, use:\n",
      "  %reload_ext autoreload\n"
     ]
    }
   ],
   "source": [
    "%load_ext autoreload\n",
    "%autoreload 2"
   ]
  },
  {
   "cell_type": "code",
   "execution_count": 33,
   "metadata": {},
   "outputs": [],
   "source": [
    "import black\n",
    "\n",
    "\n",
    "def print_res(old_d: dict, result, just_ans=True):\n",
    "    d = old_d.copy()\n",
    "    d[\"tools\"] = eval(d[\"tools\"])\n",
    "    if just_ans:\n",
    "        del d[\"tools\"]\n",
    "    d[\"answers\"] = eval(d[\"answers\"])\n",
    "    print(\"-\" * 12, end=\"\\n\\n\\n\")\n",
    "    print(black.format_str(str(d), mode=black.Mode()))\n",
    "    print(\"-\" * 12, end=\"\\n\\n\\n\")\n",
    "    print(result)"
   ]
  },
  {
   "cell_type": "code",
   "execution_count": 34,
   "metadata": {},
   "outputs": [],
   "source": [
    "import re\n",
    "from parser import parse\n",
    "\n",
    "\n",
    "def handle_response(response):\n",
    "    pattern = re.compile(r\"(?s)```shonqol\\s*([\\s\\S]*?)\\s*```\")\n",
    "    matches = pattern.findall(response)\n",
    "\n",
    "    # for code_block in matches:\n",
    "    return parse(matches[0])"
   ]
  },
  {
   "cell_type": "code",
   "execution_count": 35,
   "metadata": {},
   "outputs": [
    {
     "name": "stdout",
     "output_type": "stream",
     "text": [
      "hit_fn 2 out of 2\n",
      "hit_arg 1 out of 3\n"
     ]
    },
    {
     "data": {
      "text/plain": [
       "(2, 1)"
      ]
     },
     "execution_count": 35,
     "metadata": {},
     "output_type": "execute_result"
    }
   ],
   "source": [
    "def calc_hit_fn_arg(answers, extracted):\n",
    "    hit_fn = 0\n",
    "    hit_arg = 0\n",
    "    tot_args = 0\n",
    "\n",
    "    # Filter out non-dictionary entries and entries missing keys\n",
    "    valid_answers = [\n",
    "        a for a in answers if isinstance(a, dict) and \"name\" in a and \"arguments\" in a\n",
    "    ]\n",
    "    valid_extracted = [\n",
    "        e for e in extracted if isinstance(e, dict) and \"name\" in e and \"arguments\" in e\n",
    "    ]\n",
    "\n",
    "    # Create a lookup for extracted functions by name\n",
    "    extracted_lookup = {e[\"name\"]: e for e in valid_extracted}\n",
    "\n",
    "    for a in valid_answers:\n",
    "        fn_name = a[\"name\"]\n",
    "        if fn_name in extracted_lookup:\n",
    "            hit_fn += 1\n",
    "            ans_args = list(a[\"arguments\"].values())\n",
    "            tot_args += len(ans_args)\n",
    "            ext_args = extracted_lookup[fn_name][\"arguments\"]\n",
    "            for aarg in ans_args:\n",
    "                if aarg in ext_args:\n",
    "                    hit_arg += 1\n",
    "\n",
    "    print(\"hit_fn\", hit_fn, \"out of\", len(valid_answers))\n",
    "    print(\"hit_arg\", hit_arg, \"out of\", tot_args)\n",
    "    return hit_fn, hit_arg\n",
    "\n",
    "\n",
    "# Example data:\n",
    "extracted = [\n",
    "    {\"name\": \"get_id\", \"arguments\": [\"Pulp Fiction\"]},\n",
    "    {\"name\": \"search_torrents\", \"arguments\": [\"Pulp Fiction torrents\"]},\n",
    "    \"Pulp Fiction torrents\",\n",
    "]\n",
    "\n",
    "\n",
    "answers = [\n",
    "    {\"name\": \"get_id\", \"arguments\": {\"q\": \"Pulp Fiction\"}},\n",
    "    {\n",
    "        \"name\": \"search_torrents\",\n",
    "        \"arguments\": {\"keywords\": \"Pulp Fiction\", \"quantity\": 10},\n",
    "    },\n",
    "]\n",
    "\n",
    "calc_hit_fn_arg(answers, extracted)"
   ]
  },
  {
   "cell_type": "code",
   "execution_count": 36,
   "metadata": {},
   "outputs": [],
   "source": [
    "import pandas as pd\n",
    "\n",
    "# df = pd.read_json(\"hf://datasets/Salesforce/xlam-function-calling-60k/xlam_function_calling_60k.json\")\n",
    "df = pd.read_json(\"./xlam_function_calling_60k.json\")"
   ]
  },
  {
   "cell_type": "code",
   "execution_count": 37,
   "metadata": {},
   "outputs": [
    {
     "data": {
      "text/plain": [
       "True"
      ]
     },
     "execution_count": 37,
     "metadata": {},
     "output_type": "execute_result"
    }
   ],
   "source": [
    "from dotenv import load_dotenv\n",
    "\n",
    "load_dotenv()"
   ]
  },
  {
   "cell_type": "code",
   "execution_count": 38,
   "metadata": {},
   "outputs": [],
   "source": [
    "from langchain_openai import ChatOpenAI\n",
    "from langchain.prompts import ChatPromptTemplate\n",
    "from langchain_core.output_parsers.string import StrOutputParser\n",
    "from prompts import main_prompt\n",
    "\n",
    "prompt = ChatPromptTemplate.from_messages(\n",
    "    [(\"system\", main_prompt), (\"user\", \"{query}\")]\n",
    ")\n",
    "llm = prompt | ChatOpenAI(model=\"gpt-4o-mini\", temperature=0.7) | StrOutputParser()"
   ]
  },
  {
   "cell_type": "code",
   "execution_count": 39,
   "metadata": {},
   "outputs": [
    {
     "name": "stdout",
     "output_type": "stream",
     "text": [
      "------------\n",
      "\n",
      "\n",
      "{\n",
      "    \"id\": 6,\n",
      "    \"query\": \"Identify the ID of 'Pulp Fiction' and search for torrents related to it.\",\n",
      "    \"answers\": [\n",
      "        {\"name\": \"get_id\", \"arguments\": {\"q\": \"Pulp Fiction\"}},\n",
      "        {\n",
      "            \"name\": \"search_torrents\",\n",
      "            \"arguments\": {\"keywords\": \"Pulp Fiction\", \"quantity\": 10},\n",
      "        },\n",
      "    ],\n",
      "}\n",
      "\n",
      "------------\n",
      "\n",
      "\n",
      "```shonqol\n",
      "movieId = get_id(\"Pulp Fiction\");\n",
      "search_torrents(concat(\"Pulp Fiction, \", movieId));\n",
      "```\n"
     ]
    }
   ],
   "source": [
    "d = df.iloc[6].to_dict()\n",
    "result = llm.invoke(d)\n",
    "print_res(d, result)"
   ]
  },
  {
   "cell_type": "code",
   "execution_count": 40,
   "metadata": {},
   "outputs": [
    {
     "name": "stderr",
     "output_type": "stream",
     "text": [
      "line 2:15 mismatched input '(' expecting '='\n",
      "line 2:22 mismatched input '(' expecting '='\n",
      "line 2:48 mismatched input ')' expecting '='\n"
     ]
    },
    {
     "ename": "AttributeError",
     "evalue": "'NoneType' object has no attribute 'value'",
     "output_type": "error",
     "traceback": [
      "\u001b[1;31m---------------------------------------------------------------------------\u001b[0m",
      "\u001b[1;31mAttributeError\u001b[0m                            Traceback (most recent call last)",
      "Cell \u001b[1;32mIn[40], line 4\u001b[0m\n\u001b[0;32m      1\u001b[0m \u001b[38;5;28;01mimport\u001b[39;00m\u001b[38;5;250m \u001b[39m\u001b[38;5;21;01mjson\u001b[39;00m\n\u001b[1;32m----> 4\u001b[0m extracted_functions \u001b[38;5;241m=\u001b[39m \u001b[43mhandle_response\u001b[49m\u001b[43m(\u001b[49m\u001b[43mresult\u001b[49m\u001b[43m)\u001b[49m\n\u001b[0;32m      5\u001b[0m \u001b[38;5;28mprint\u001b[39m(\u001b[38;5;124m\"\u001b[39m\u001b[38;5;124m*\u001b[39m\u001b[38;5;124m\"\u001b[39m \u001b[38;5;241m*\u001b[39m \u001b[38;5;241m20\u001b[39m)\n\u001b[0;32m      6\u001b[0m \u001b[38;5;28mprint\u001b[39m((extracted_functions))\n",
      "Cell \u001b[1;32mIn[34], line 10\u001b[0m, in \u001b[0;36mhandle_response\u001b[1;34m(response)\u001b[0m\n\u001b[0;32m      7\u001b[0m matches \u001b[38;5;241m=\u001b[39m pattern\u001b[38;5;241m.\u001b[39mfindall(response)\n\u001b[0;32m      9\u001b[0m \u001b[38;5;66;03m# for code_block in matches:\u001b[39;00m\n\u001b[1;32m---> 10\u001b[0m \u001b[38;5;28;01mreturn\u001b[39;00m \u001b[43mparse\u001b[49m\u001b[43m(\u001b[49m\u001b[43mmatches\u001b[49m\u001b[43m[\u001b[49m\u001b[38;5;241;43m0\u001b[39;49m\u001b[43m]\u001b[49m\u001b[43m)\u001b[49m\n",
      "File \u001b[1;32mc:\\Users\\msnp\\Documents\\GitHub\\shonql\\parser.py:90\u001b[0m, in \u001b[0;36mparse\u001b[1;34m(code)\u001b[0m\n\u001b[0;32m     88\u001b[0m listener \u001b[38;5;241m=\u001b[39m ShonqolListener()\n\u001b[0;32m     89\u001b[0m walker \u001b[38;5;241m=\u001b[39m ParseTreeWalker()\n\u001b[1;32m---> 90\u001b[0m \u001b[43mwalker\u001b[49m\u001b[38;5;241;43m.\u001b[39;49m\u001b[43mwalk\u001b[49m\u001b[43m(\u001b[49m\u001b[43mlistener\u001b[49m\u001b[43m,\u001b[49m\u001b[43m \u001b[49m\u001b[43mtree\u001b[49m\u001b[43m)\u001b[49m\n\u001b[0;32m     92\u001b[0m \u001b[38;5;66;03m# At this point, the listener has updated the AST with evaluated values,\u001b[39;00m\n\u001b[0;32m     93\u001b[0m \u001b[38;5;66;03m# e.g., static evaluation for concat.\u001b[39;00m\n\u001b[0;32m     94\u001b[0m \u001b[38;5;66;03m# Print the extracted function calls from the AST.\u001b[39;00m\n\u001b[0;32m     95\u001b[0m extracted \u001b[38;5;241m=\u001b[39m extract_function_calls_from_ast(tree\u001b[38;5;241m.\u001b[39mast)\n",
      "File \u001b[1;32m~\\AppData\\Roaming\\Python\\Python312\\site-packages\\antlr4\\tree\\Tree.py:160\u001b[0m, in \u001b[0;36mParseTreeWalker.walk\u001b[1;34m(self, listener, t)\u001b[0m\n\u001b[0;32m    158\u001b[0m \u001b[38;5;28mself\u001b[39m\u001b[38;5;241m.\u001b[39menterRule(listener, t)\n\u001b[0;32m    159\u001b[0m \u001b[38;5;28;01mfor\u001b[39;00m child \u001b[38;5;129;01min\u001b[39;00m t\u001b[38;5;241m.\u001b[39mgetChildren():\n\u001b[1;32m--> 160\u001b[0m     \u001b[38;5;28;43mself\u001b[39;49m\u001b[38;5;241;43m.\u001b[39;49m\u001b[43mwalk\u001b[49m\u001b[43m(\u001b[49m\u001b[43mlistener\u001b[49m\u001b[43m,\u001b[49m\u001b[43m \u001b[49m\u001b[43mchild\u001b[49m\u001b[43m)\u001b[49m\n\u001b[0;32m    161\u001b[0m \u001b[38;5;28mself\u001b[39m\u001b[38;5;241m.\u001b[39mexitRule(listener, t)\n",
      "File \u001b[1;32m~\\AppData\\Roaming\\Python\\Python312\\site-packages\\antlr4\\tree\\Tree.py:160\u001b[0m, in \u001b[0;36mParseTreeWalker.walk\u001b[1;34m(self, listener, t)\u001b[0m\n\u001b[0;32m    158\u001b[0m \u001b[38;5;28mself\u001b[39m\u001b[38;5;241m.\u001b[39menterRule(listener, t)\n\u001b[0;32m    159\u001b[0m \u001b[38;5;28;01mfor\u001b[39;00m child \u001b[38;5;129;01min\u001b[39;00m t\u001b[38;5;241m.\u001b[39mgetChildren():\n\u001b[1;32m--> 160\u001b[0m     \u001b[38;5;28;43mself\u001b[39;49m\u001b[38;5;241;43m.\u001b[39;49m\u001b[43mwalk\u001b[49m\u001b[43m(\u001b[49m\u001b[43mlistener\u001b[49m\u001b[43m,\u001b[49m\u001b[43m \u001b[49m\u001b[43mchild\u001b[49m\u001b[43m)\u001b[49m\n\u001b[0;32m    161\u001b[0m \u001b[38;5;28mself\u001b[39m\u001b[38;5;241m.\u001b[39mexitRule(listener, t)\n",
      "File \u001b[1;32m~\\AppData\\Roaming\\Python\\Python312\\site-packages\\antlr4\\tree\\Tree.py:161\u001b[0m, in \u001b[0;36mParseTreeWalker.walk\u001b[1;34m(self, listener, t)\u001b[0m\n\u001b[0;32m    159\u001b[0m \u001b[38;5;28;01mfor\u001b[39;00m child \u001b[38;5;129;01min\u001b[39;00m t\u001b[38;5;241m.\u001b[39mgetChildren():\n\u001b[0;32m    160\u001b[0m     \u001b[38;5;28mself\u001b[39m\u001b[38;5;241m.\u001b[39mwalk(listener, child)\n\u001b[1;32m--> 161\u001b[0m \u001b[38;5;28;43mself\u001b[39;49m\u001b[38;5;241;43m.\u001b[39;49m\u001b[43mexitRule\u001b[49m\u001b[43m(\u001b[49m\u001b[43mlistener\u001b[49m\u001b[43m,\u001b[49m\u001b[43m \u001b[49m\u001b[43mt\u001b[49m\u001b[43m)\u001b[49m\n",
      "File \u001b[1;32m~\\AppData\\Roaming\\Python\\Python312\\site-packages\\antlr4\\tree\\Tree.py:188\u001b[0m, in \u001b[0;36mParseTreeWalker.exitRule\u001b[1;34m(self, listener, r)\u001b[0m\n\u001b[0;32m    181\u001b[0m \u001b[38;5;250m        \u001b[39m\u001b[38;5;124;03m\"\"\"\u001b[39;00m\n\u001b[0;32m    182\u001b[0m \u001b[38;5;124;03m\t    Exits a grammar rule by first triggering the event specific to the given parse tree node\u001b[39;00m\n\u001b[0;32m    183\u001b[0m \u001b[38;5;124;03m\t    then by triggering the generic event {@link ParseTreeListener#exitEveryRule}\u001b[39;00m\n\u001b[0;32m    184\u001b[0m \u001b[38;5;124;03m\t    @param listener The listener responding to the trigger events\u001b[39;00m\n\u001b[0;32m    185\u001b[0m \u001b[38;5;124;03m\t    @param r The grammar rule containing the rule context\u001b[39;00m\n\u001b[0;32m    186\u001b[0m \u001b[38;5;124;03m        \"\"\"\u001b[39;00m\n\u001b[0;32m    187\u001b[0m         ctx \u001b[38;5;241m=\u001b[39m r\u001b[38;5;241m.\u001b[39mgetRuleContext()\n\u001b[1;32m--> 188\u001b[0m         \u001b[43mctx\u001b[49m\u001b[38;5;241;43m.\u001b[39;49m\u001b[43mexitRule\u001b[49m\u001b[43m(\u001b[49m\u001b[43mlistener\u001b[49m\u001b[43m)\u001b[49m\n\u001b[0;32m    189\u001b[0m         listener\u001b[38;5;241m.\u001b[39mexitEveryRule(ctx)\n",
      "File \u001b[1;32mc:\\Users\\msnp\\Documents\\GitHub\\shonql\\grammar\\ShonqolParser.py:213\u001b[0m, in \u001b[0;36mShonqolParser.AssignmentContext.exitRule\u001b[1;34m(self, listener)\u001b[0m\n\u001b[0;32m    211\u001b[0m \u001b[38;5;28;01mdef\u001b[39;00m\u001b[38;5;250m \u001b[39m\u001b[38;5;21mexitRule\u001b[39m(\u001b[38;5;28mself\u001b[39m, listener:ParseTreeListener):\n\u001b[0;32m    212\u001b[0m     \u001b[38;5;28;01mif\u001b[39;00m \u001b[38;5;28mhasattr\u001b[39m( listener, \u001b[38;5;124m\"\u001b[39m\u001b[38;5;124mexitAssignment\u001b[39m\u001b[38;5;124m\"\u001b[39m ):\n\u001b[1;32m--> 213\u001b[0m         \u001b[43mlistener\u001b[49m\u001b[38;5;241;43m.\u001b[39;49m\u001b[43mexitAssignment\u001b[49m\u001b[43m(\u001b[49m\u001b[38;5;28;43mself\u001b[39;49m\u001b[43m)\u001b[49m\n",
      "File \u001b[1;32mc:\\Users\\msnp\\Documents\\GitHub\\shonql\\grammar\\ShonqolListener.py:40\u001b[0m, in \u001b[0;36mShonqolListener.exitAssignment\u001b[1;34m(self, ctx)\u001b[0m\n\u001b[0;32m     38\u001b[0m \u001b[38;5;28;01mdef\u001b[39;00m\u001b[38;5;250m \u001b[39m\u001b[38;5;21mexitAssignment\u001b[39m(\u001b[38;5;28mself\u001b[39m, ctx: ShonqolParser\u001b[38;5;241m.\u001b[39mAssignmentContext):\n\u001b[0;32m     39\u001b[0m     var_name \u001b[38;5;241m=\u001b[39m ctx\u001b[38;5;241m.\u001b[39mIdentifier()\u001b[38;5;241m.\u001b[39mgetText()\n\u001b[1;32m---> 40\u001b[0m     expr_value \u001b[38;5;241m=\u001b[39m \u001b[43mctx\u001b[49m\u001b[38;5;241;43m.\u001b[39;49m\u001b[43mexpression\u001b[49m\u001b[43m(\u001b[49m\u001b[43m)\u001b[49m\u001b[38;5;241;43m.\u001b[39;49m\u001b[43mvalue\u001b[49m\n\u001b[0;32m     41\u001b[0m     \u001b[38;5;28mself\u001b[39m\u001b[38;5;241m.\u001b[39menv[var_name] \u001b[38;5;241m=\u001b[39m expr_value\n\u001b[0;32m     42\u001b[0m     ctx\u001b[38;5;241m.\u001b[39mvalue \u001b[38;5;241m=\u001b[39m expr_value\n",
      "\u001b[1;31mAttributeError\u001b[0m: 'NoneType' object has no attribute 'value'"
     ]
    }
   ],
   "source": [
    "import json\n",
    "\n",
    "\n",
    "extracted_functions = handle_response(result)\n",
    "print(\"*\" * 20)\n",
    "print((extracted_functions))\n",
    "print(\"*\" * 20)\n",
    "print(d[\"answers\"])\n",
    "print(\"*\" * 20)\n",
    "calc_hit_fn_arg(json.loads( d[\"answers\"]), extracted_functions)"
   ]
  },
  {
   "cell_type": "code",
   "execution_count": 41,
   "metadata": {},
   "outputs": [
    {
     "name": "stdout",
     "output_type": "stream",
     "text": [
      "------------\n",
      "\n",
      "\n",
      "{\n",
      "    \"id\": 9,\n",
      "    \"query\": \"Is 'https://www.apple.com' available in the Wayback Machine on September 9, 2015?\",\n",
      "    \"answers\": [\n",
      "        {\n",
      "            \"name\": \"availability\",\n",
      "            \"arguments\": {\"url\": \"https://www.apple.com\", \"timestamp\": \"20150909\"},\n",
      "        }\n",
      "    ],\n",
      "}\n",
      "\n",
      "------------\n",
      "\n",
      "\n",
      "```shonqol\n",
      "availability(\"https://www.apple.com\", \"20150909\");\n",
      "```\n"
     ]
    }
   ],
   "source": [
    "d = df.iloc[9].to_dict()\n",
    "result = llm.invoke(d)\n",
    "print_res(d, result)"
   ]
  },
  {
   "cell_type": "code",
   "execution_count": 43,
   "metadata": {},
   "outputs": [
    {
     "name": "stdout",
     "output_type": "stream",
     "text": [
      "Extracted function calls from AST:\n",
      "[\n",
      "    {\n",
      "        \"name\": \"availability\",\n",
      "        \"arguments\": [\n",
      "            \"https://www.apple.com\",\n",
      "            \"20150909\"\n",
      "        ]\n",
      "    }\n",
      "]\n",
      "hit_fn 1 out of 1\n",
      "hit_arg 2 out of 2\n"
     ]
    },
    {
     "name": "stderr",
     "output_type": "stream",
     "text": [
      "line 1:49 extraneous input ';' expecting {<EOF>, Identifier}\n"
     ]
    },
    {
     "data": {
      "text/plain": [
       "(1, 2)"
      ]
     },
     "execution_count": 43,
     "metadata": {},
     "output_type": "execute_result"
    }
   ],
   "source": [
    "extracted_functions = handle_response(result)\n",
    "calc_hit_fn_arg(json.loads( d[\"answers\"]), extracted_functions)"
   ]
  },
  {
   "cell_type": "code",
   "execution_count": 44,
   "metadata": {},
   "outputs": [
    {
     "name": "stdout",
     "output_type": "stream",
     "text": [
      "------------\n",
      "\n",
      "\n",
      "{\n",
      "    \"id\": 103,\n",
      "    \"query\": \"What is the recommended daily calorie intake and macronutrient distribution for a 30-year-old male, weighing 75 kg, 180 cm tall, moderately active, aiming to maintain weight?\",\n",
      "    \"answers\": [\n",
      "        {\n",
      "            \"name\": \"calculate_calorie_intake\",\n",
      "            \"arguments\": {\n",
      "                \"weight_kg\": 75,\n",
      "                \"height_cm\": 180,\n",
      "                \"age\": 30,\n",
      "                \"sex\": \"male\",\n",
      "                \"activity_level\": 3,\n",
      "                \"goal\": \"maintain\",\n",
      "            },\n",
      "        }\n",
      "    ],\n",
      "    \"tools\": [\n",
      "        {\n",
      "            \"name\": \"calculate_calorie_intake\",\n",
      "            \"description\": \"Calculates the recommended daily calorie intake and macronutrient distribution based on personal characteristics and goals.\",\n",
      "            \"parameters\": {\n",
      "                \"weight_kg\": {\n",
      "                    \"description\": \"Body weight in kilograms.\",\n",
      "                    \"type\": \"float\",\n",
      "                },\n",
      "                \"height_cm\": {\"description\": \"Height in centimeters.\", \"type\": \"float\"},\n",
      "                \"age\": {\"description\": \"Age in years.\", \"type\": \"int\"},\n",
      "                \"sex\": {\n",
      "                    \"description\": \"Biological sex, either 'male' or 'female'.\",\n",
      "                    \"type\": \"str\",\n",
      "                },\n",
      "                \"activity_level\": {\n",
      "                    \"description\": \"Activity level on a scale of 1 to 5 (1 = sedentary, 5 = extremely active).\",\n",
      "                    \"type\": \"int\",\n",
      "                },\n",
      "                \"goal\": {\n",
      "                    \"description\": \"Fitness goal, either 'lose', 'maintain', or 'gain'.\",\n",
      "                    \"type\": \"str\",\n",
      "                },\n",
      "            },\n",
      "        },\n",
      "        {\n",
      "            \"name\": \"assess_diabetes_risk\",\n",
      "            \"description\": \"Assesses the risk of developing type 2 diabetes based on body mass index (BMI) and physical activity level.\",\n",
      "            \"parameters\": {\n",
      "                \"weight_lbs\": {\"description\": \"Body weight in pounds.\", \"type\": \"int\"},\n",
      "                \"height_inches\": {\"description\": \"Height in inches.\", \"type\": \"int\"},\n",
      "                \"activity\": {\n",
      "                    \"description\": 'Physical activity level. Allowed values: \"sedentary\", \"lightly active\", \"moderately active\", or \"very active\".',\n",
      "                    \"type\": \"str\",\n",
      "                },\n",
      "            },\n",
      "        },\n",
      "        {\n",
      "            \"name\": \"place_safeway_order\",\n",
      "            \"description\": \"Order specified items from a Safeway location.\",\n",
      "            \"parameters\": {\n",
      "                \"location\": {\n",
      "                    \"description\": \"The location of the Safeway store, e.g., 'Palo Alto, CA'.\",\n",
      "                    \"type\": \"str\",\n",
      "                },\n",
      "                \"items\": {\"description\": \"List of items to order.\", \"type\": \"list\"},\n",
      "                \"quantity\": {\n",
      "                    \"description\": \"Quantity of each item in the order list.\",\n",
      "                    \"type\": \"list\",\n",
      "                },\n",
      "            },\n",
      "        },\n",
      "        {\n",
      "            \"name\": \"get_ip_location\",\n",
      "            \"description\": \"Retrieves the latitude and longitude coordinates of a given IP address using the ip-api.com API.\",\n",
      "            \"parameters\": {\n",
      "                \"ip\": {\"description\": \"The IP address to locate.\", \"type\": \"str\"}\n",
      "            },\n",
      "        },\n",
      "        {\n",
      "            \"name\": \"is_valid_ip_address\",\n",
      "            \"description\": \"Checks if a string is a valid IP address (IPv4).\",\n",
      "            \"parameters\": {\n",
      "                \"ip\": {\"description\": \"The string to check.\", \"type\": \"str\"}\n",
      "            },\n",
      "        },\n",
      "        {\n",
      "            \"name\": \"get_pokemon_move_info\",\n",
      "            \"description\": \"Retrieves information about a Pokémon's move using the PokéAPI.\",\n",
      "            \"parameters\": {\n",
      "                \"pokemon_name\": {\n",
      "                    \"description\": \"The name of the Pokémon.\",\n",
      "                    \"type\": \"str\",\n",
      "                    \"default\": \"run\",\n",
      "                },\n",
      "                \"move_name\": {\n",
      "                    \"description\": 'The name of the move to check. Defaults to \"run\".',\n",
      "                    \"type\": \"str, optional\",\n",
      "                    \"default\": \"run\",\n",
      "                },\n",
      "            },\n",
      "        },\n",
      "        {\n",
      "            \"name\": \"is_hotel_available\",\n",
      "            \"description\": \"Checks the availability of a hotel for a given date range.\",\n",
      "            \"parameters\": {\n",
      "                \"hotel\": {\"description\": \"The name of the hotel.\", \"type\": \"str\"},\n",
      "                \"city\": {\n",
      "                    \"description\": \"The city where the hotel is located.\",\n",
      "                    \"type\": \"str\",\n",
      "                },\n",
      "                \"checkin\": {\n",
      "                    \"description\": 'The check-in date in the format \"YYYY-MM-DD\".',\n",
      "                    \"type\": \"str\",\n",
      "                },\n",
      "                \"checkout\": {\n",
      "                    \"description\": 'The check-out date in the format \"YYYY-MM-DD\".',\n",
      "                    \"type\": \"str\",\n",
      "                },\n",
      "            },\n",
      "        },\n",
      "        {\n",
      "            \"name\": \"get_holidays_by_year\",\n",
      "            \"description\": \"Retrieves the list of public holidays for a given year and country using the Nager.Date API.\",\n",
      "            \"parameters\": {\n",
      "                \"year\": {\n",
      "                    \"description\": \"The year for which to retrieve the holidays.\",\n",
      "                    \"type\": \"int\",\n",
      "                },\n",
      "                \"country_code\": {\n",
      "                    \"description\": \"The two-letter ISO 3166-1 alpha-2 country code.\",\n",
      "                    \"type\": \"str\",\n",
      "                },\n",
      "            },\n",
      "        },\n",
      "    ],\n",
      "}\n",
      "\n",
      "------------\n",
      "\n",
      "\n",
      "```shonqol\n",
      "calculate_calorie_intake(75, 180, 30, \"male\", 3, \"maintain\");\n",
      "```\n"
     ]
    }
   ],
   "source": [
    "d = df.iloc[103].to_dict()\n",
    "result = llm.invoke(d)\n",
    "print_res(d, result, just_ans=False)"
   ]
  },
  {
   "cell_type": "code",
   "execution_count": 45,
   "metadata": {},
   "outputs": [
    {
     "name": "stdout",
     "output_type": "stream",
     "text": [
      "Extracted function calls from AST:\n",
      "[\n",
      "    {\n",
      "        \"name\": \"calculate_calorie_intake\",\n",
      "        \"arguments\": [\n",
      "            75,\n",
      "            180,\n",
      "            30,\n",
      "            \"male\",\n",
      "            3,\n",
      "            \"maintain\"\n",
      "        ]\n",
      "    }\n",
      "]\n",
      "hit_fn 1 out of 1\n",
      "hit_arg 6 out of 6\n"
     ]
    },
    {
     "name": "stderr",
     "output_type": "stream",
     "text": [
      "line 1:60 extraneous input ';' expecting {<EOF>, Identifier}\n"
     ]
    },
    {
     "data": {
      "text/plain": [
       "(1, 6)"
      ]
     },
     "execution_count": 45,
     "metadata": {},
     "output_type": "execute_result"
    }
   ],
   "source": [
    "extracted_functions = handle_response(result)\n",
    "calc_hit_fn_arg(json.loads( d[\"answers\"]), extracted_functions)"
   ]
  },
  {
   "cell_type": "code",
   "execution_count": 46,
   "metadata": {},
   "outputs": [
    {
     "name": "stdout",
     "output_type": "stream",
     "text": [
      "------------\n",
      "\n",
      "\n",
      "{\n",
      "    \"id\": 586,\n",
      "    \"query\": \"I'm curious about the neuronal activity rate when the synaptic input rate is 100 per second, with a synaptic weight of 0.5 and a decay constant of 0.05. Also, could you check if 17 is a prime number and solve the quadratic equation 2x^2 - 3x + 1 = 0?\",\n",
      "    \"answers\": [\n",
      "        {\n",
      "            \"name\": \"neuronal_activity_rate\",\n",
      "            \"arguments\": {\n",
      "                \"synaptic_input_rate\": 100,\n",
      "                \"synaptic_weight\": 0.5,\n",
      "                \"decay_constant\": 0.05,\n",
      "            },\n",
      "        },\n",
      "        {\"name\": \"is_prime\", \"arguments\": {\"num\": 17}},\n",
      "        {\"name\": \"solve_quadratic\", \"arguments\": {\"a\": 2, \"b\": -3, \"c\": 1}},\n",
      "    ],\n",
      "}\n",
      "\n",
      "------------\n",
      "\n",
      "\n",
      "```shonqol\n",
      "neuronal_activity = neuronal_activity_rate(100, 0.5, 0.05);\n",
      "is_seventeen_prime = is_prime(17);\n",
      "quadratic_roots = solve_quadratic(2, -3, 1);\n",
      "```\n"
     ]
    }
   ],
   "source": [
    "d = df.iloc[586].to_dict()\n",
    "result = llm.invoke(d)\n",
    "print_res(d, result, just_ans=True)"
   ]
  },
  {
   "cell_type": "code",
   "execution_count": 50,
   "metadata": {},
   "outputs": [
    {
     "name": "stdout",
     "output_type": "stream",
     "text": [
      "Extracted function calls from AST:\n",
      "[\n",
      "    {\n",
      "        \"name\": \"neuronal_activity_rate\",\n",
      "        \"arguments\": [\n",
      "            100,\n",
      "            0.5,\n",
      "            0.05\n",
      "        ]\n",
      "    },\n",
      "    {\n",
      "        \"name\": \"is_prime\",\n",
      "        \"arguments\": [\n",
      "            17\n",
      "        ]\n",
      "    },\n",
      "    {\n",
      "        \"name\": \"solve_quadratic\",\n",
      "        \"arguments\": [\n",
      "            2,\n",
      "            -3,\n",
      "            1\n",
      "        ]\n",
      "    }\n",
      "]\n",
      "hit_fn 3 out of 3\n",
      "hit_arg 7 out of 7\n"
     ]
    },
    {
     "data": {
      "text/plain": [
       "(3, 7)"
      ]
     },
     "execution_count": 50,
     "metadata": {},
     "output_type": "execute_result"
    }
   ],
   "source": [
    "extracted_functions = handle_response(result)\n",
    "calc_hit_fn_arg(json.loads( d[\"answers\"]), extracted_functions)"
   ]
  },
  {
   "cell_type": "code",
   "execution_count": null,
   "metadata": {},
   "outputs": [],
   "source": [
    "d = df.iloc[998].to_dict()\n",
    "result = llm.invoke(d)\n",
    "print_res(\n",
    "    d,\n",
    "    result,\n",
    ")"
   ]
  },
  {
   "cell_type": "code",
   "execution_count": null,
   "metadata": {},
   "outputs": [],
   "source": [
    "import json\n",
    "\n",
    "for _, row in df.iterrows():\n",
    "\n",
    "    v = json.loads(str(row[\"answers\"]))\n",
    "    if not isinstance(v, list):\n",
    "        continue\n",
    "    if len(v) > 3:\n",
    "        d = row.to_dict()\n",
    "        break\n",
    "result = llm.invoke(d)\n",
    "print_res(d, result, just_ans=True)"
   ]
  },
  {
   "cell_type": "code",
   "execution_count": null,
   "metadata": {},
   "outputs": [],
   "source": [
    "d = df.iloc[6].to_dict()\n",
    "result = llm.invoke(d)\n",
    "print_res(d, result)"
   ]
  },
  {
   "cell_type": "code",
   "execution_count": null,
   "metadata": {},
   "outputs": [],
   "source": []
  }
 ],
 "metadata": {
  "kernelspec": {
   "display_name": "Python 3",
   "language": "python",
   "name": "python3"
  },
  "language_info": {
   "codemirror_mode": {
    "name": "ipython",
    "version": 3
   },
   "file_extension": ".py",
   "mimetype": "text/x-python",
   "name": "python",
   "nbconvert_exporter": "python",
   "pygments_lexer": "ipython3",
   "version": "3.12.8"
  }
 },
 "nbformat": 4,
 "nbformat_minor": 2
}
