{
 "cells": [
  {
   "cell_type": "code",
   "execution_count": 2,
   "metadata": {},
   "outputs": [],
   "source": [
    "%load_ext autoreload\n",
    "%autoreload 2"
   ]
  },
  {
   "cell_type": "code",
   "execution_count": 3,
   "metadata": {},
   "outputs": [],
   "source": [
    "import black\n",
    "\n",
    "\n",
    "def print_res(old_d: dict, result, just_ans=True):\n",
    "    d = old_d.copy()\n",
    "    d[\"tools\"] = eval(d[\"tools\"])\n",
    "    if just_ans:\n",
    "        del d[\"tools\"]\n",
    "    d[\"answers\"] = eval(d[\"answers\"])\n",
    "    print(\"-\" * 12, end=\"\\n\\n\\n\")\n",
    "    print(black.format_str(str(d), mode=black.Mode()))\n",
    "    print(\"-\" * 12, end=\"\\n\\n\\n\")\n",
    "    print(result)"
   ]
  },
  {
   "cell_type": "code",
   "execution_count": 20,
   "metadata": {},
   "outputs": [],
   "source": [
    "import re\n",
    "from parser import parse\n",
    "\n",
    "\n",
    "def handle_response(response):\n",
    "    pattern = re.compile(r\"(?s)```shonqol\\s*([\\s\\S]*?)\\s*```\")\n",
    "    matches = pattern.findall(response)\n",
    "\n",
    "    # for code_block in matches:\n",
    "    return parse(matches[0])"
   ]
  },
  {
   "cell_type": "code",
   "execution_count": 22,
   "metadata": {},
   "outputs": [
    {
     "name": "stdout",
     "output_type": "stream",
     "text": [
      "hit_fn 2 out of 2\n",
      "hit_arg 1 out of 3\n"
     ]
    },
    {
     "data": {
      "text/plain": [
       "((2, 2), (1, 3))"
      ]
     },
     "execution_count": 22,
     "metadata": {},
     "output_type": "execute_result"
    }
   ],
   "source": [
    "def calc_hit_fn_arg(answers, extracted):\n",
    "    hit_fn = 0\n",
    "    hit_arg = 0\n",
    "    tot_args = 0\n",
    "\n",
    "    # Filter out non-dictionary entries and entries missing keys\n",
    "    valid_answers = [\n",
    "        a for a in answers if isinstance(a, dict) and \"name\" in a and \"arguments\" in a\n",
    "    ]\n",
    "    valid_extracted = [\n",
    "        e for e in extracted if isinstance(e, dict) and \"name\" in e and \"arguments\" in e\n",
    "    ]\n",
    "\n",
    "    # Create a lookup for extracted functions by name\n",
    "    extracted_lookup = [(e[\"name\"], e) for e in valid_extracted]\n",
    "    fn_names_set= set([e[\"name\"] for e in valid_extracted])\n",
    "    # Create a lookup for extracted functions by name mapping to a list of their 'arguments' lists\n",
    "    extracted_lookup = {}\n",
    "    for e in valid_extracted:\n",
    "        extracted_lookup.setdefault(e[\"name\"], []).append(e[\"arguments\"])\n",
    "\n",
    "    for a in valid_answers:\n",
    "        fn_name = a[\"name\"]\n",
    "        if fn_name in extracted_lookup:\n",
    "            hit_fn += 1\n",
    "            ans_args = list(a[\"arguments\"].values())\n",
    "            tot_args += len(ans_args)\n",
    "            for aarg in ans_args:\n",
    "                # Check across all extracted function calls for this name, order doesn't matter\n",
    "                if any(aarg in ext_args for ext_args in extracted_lookup[fn_name]):\n",
    "                    hit_arg += 1\n",
    "\n",
    "    print(\"hit_fn\", hit_fn, \"out of\", len(valid_answers))\n",
    "    print(\"hit_arg\", hit_arg, \"out of\", tot_args)\n",
    "    return (hit_fn,len(valid_answers)), (hit_arg, tot_args)\n",
    "\n",
    "\n",
    "# Example data:\n",
    "extracted = [\n",
    "    {\"name\": \"get_id\", \"arguments\": [\"Pulp Fiction\"]},\n",
    "    {\"name\": \"search_torrents\", \"arguments\": [\"Pulp Fiction torrents\"]},\n",
    "    \"Pulp Fiction torrents\",\n",
    "]\n",
    "\n",
    "\n",
    "answers = [\n",
    "    {\"name\": \"get_id\", \"arguments\": {\"q\": \"Pulp Fiction\"}},\n",
    "    {\n",
    "        \"name\": \"search_torrents\",\n",
    "        \"arguments\": {\"keywords\": \"Pulp Fiction\", \"quantity\": 10},\n",
    "    },\n",
    "]\n",
    "\n",
    "calc_hit_fn_arg(answers, extracted)"
   ]
  },
  {
   "cell_type": "code",
   "execution_count": 6,
   "metadata": {},
   "outputs": [],
   "source": [
    "import pandas as pd\n",
    "\n",
    "# df = pd.read_json(\"hf://datasets/Salesforce/xlam-function-calling-60k/xlam_function_calling_60k.json\")\n",
    "df = pd.read_json(\"./xlam_function_calling_60k.json\")"
   ]
  },
  {
   "cell_type": "code",
   "execution_count": 7,
   "metadata": {},
   "outputs": [
    {
     "data": {
      "text/plain": [
       "True"
      ]
     },
     "execution_count": 7,
     "metadata": {},
     "output_type": "execute_result"
    }
   ],
   "source": [
    "from dotenv import load_dotenv\n",
    "\n",
    "load_dotenv()"
   ]
  },
  {
   "cell_type": "code",
   "execution_count": 8,
   "metadata": {},
   "outputs": [],
   "source": [
    "from langchain_openai import ChatOpenAI\n",
    "from langchain.prompts import ChatPromptTemplate\n",
    "from langchain_core.output_parsers.string import StrOutputParser\n",
    "from prompts import main_prompt\n",
    "\n",
    "prompt = ChatPromptTemplate.from_messages(\n",
    "    [(\"system\", main_prompt), (\"user\", \"{query}\")]\n",
    ")\n",
    "llm = prompt | ChatOpenAI(model=\"gpt-4o-mini\", temperature=0.7) | StrOutputParser()"
   ]
  },
  {
   "cell_type": "code",
   "execution_count": 10,
   "metadata": {},
   "outputs": [
    {
     "name": "stdout",
     "output_type": "stream",
     "text": [
      "------------\n",
      "\n",
      "\n",
      "{\n",
      "    \"id\": 6,\n",
      "    \"query\": \"Identify the ID of 'Pulp Fiction' and search for torrents related to it.\",\n",
      "    \"answers\": [\n",
      "        {\"name\": \"get_id\", \"arguments\": {\"q\": \"Pulp Fiction\"}},\n",
      "        {\n",
      "            \"name\": \"search_torrents\",\n",
      "            \"arguments\": {\"keywords\": \"Pulp Fiction\", \"quantity\": 10},\n",
      "        },\n",
      "    ],\n",
      "}\n",
      "\n",
      "------------\n",
      "\n",
      "\n",
      "```shonqol\n",
      "movie_id = get_id(\"Pulp Fiction\");\n",
      "search_torrents(concat(\"Pulp Fiction\", \" torrent\"), 40);\n",
      "```\n"
     ]
    }
   ],
   "source": [
    "d = df.iloc[6].to_dict()\n",
    "result = llm.invoke(d)\n",
    "print_res(d, result)"
   ]
  },
  {
   "cell_type": "code",
   "execution_count": 11,
   "metadata": {},
   "outputs": [
    {
     "name": "stdout",
     "output_type": "stream",
     "text": [
      "Extracted function calls from AST:\n",
      "[\n",
      "    {\n",
      "        \"name\": \"get_id\",\n",
      "        \"arguments\": [\n",
      "            \"Pulp Fiction\"\n",
      "        ]\n",
      "    },\n",
      "    {\n",
      "        \"name\": \"search_torrents\",\n",
      "        \"arguments\": [\n",
      "            \"Pulp Fiction torrent\",\n",
      "            40\n",
      "        ]\n",
      "    },\n",
      "    \"Pulp Fiction torrent\"\n",
      "]\n",
      "********************\n",
      "[{'name': 'get_id', 'arguments': ['Pulp Fiction']}, {'name': 'search_torrents', 'arguments': ['Pulp Fiction torrent', 40]}, 'Pulp Fiction torrent']\n",
      "********************\n",
      "[{\"name\": \"get_id\", \"arguments\": {\"q\": \"Pulp Fiction\"}}, {\"name\": \"search_torrents\", \"arguments\": {\"keywords\": \"Pulp Fiction\", \"quantity\": 10}}]\n",
      "********************\n",
      "hit_fn 2 out of 2\n",
      "hit_arg 1 out of 3\n"
     ]
    },
    {
     "name": "stderr",
     "output_type": "stream",
     "text": [
      "line 2:55 extraneous input ';' expecting {<EOF>, Identifier}\n"
     ]
    },
    {
     "data": {
      "text/plain": [
       "(2, 1)"
      ]
     },
     "execution_count": 11,
     "metadata": {},
     "output_type": "execute_result"
    }
   ],
   "source": [
    "import json\n",
    "\n",
    "\n",
    "extracted_functions = handle_response(result)\n",
    "print(\"*\" * 20)\n",
    "print((extracted_functions))\n",
    "print(\"*\" * 20)\n",
    "print(d[\"answers\"])\n",
    "print(\"*\" * 20)\n",
    "calc_hit_fn_arg(json.loads( d[\"answers\"]), extracted_functions)"
   ]
  },
  {
   "cell_type": "code",
   "execution_count": 41,
   "metadata": {},
   "outputs": [
    {
     "name": "stdout",
     "output_type": "stream",
     "text": [
      "------------\n",
      "\n",
      "\n",
      "{\n",
      "    \"id\": 9,\n",
      "    \"query\": \"Is 'https://www.apple.com' available in the Wayback Machine on September 9, 2015?\",\n",
      "    \"answers\": [\n",
      "        {\n",
      "            \"name\": \"availability\",\n",
      "            \"arguments\": {\"url\": \"https://www.apple.com\", \"timestamp\": \"20150909\"},\n",
      "        }\n",
      "    ],\n",
      "}\n",
      "\n",
      "------------\n",
      "\n",
      "\n",
      "```shonqol\n",
      "availability(\"https://www.apple.com\", \"20150909\");\n",
      "```\n"
     ]
    }
   ],
   "source": [
    "d = df.iloc[9].to_dict()\n",
    "result = llm.invoke(d)\n",
    "print_res(d, result)"
   ]
  },
  {
   "cell_type": "code",
   "execution_count": 43,
   "metadata": {},
   "outputs": [
    {
     "name": "stdout",
     "output_type": "stream",
     "text": [
      "Extracted function calls from AST:\n",
      "[\n",
      "    {\n",
      "        \"name\": \"availability\",\n",
      "        \"arguments\": [\n",
      "            \"https://www.apple.com\",\n",
      "            \"20150909\"\n",
      "        ]\n",
      "    }\n",
      "]\n",
      "hit_fn 1 out of 1\n",
      "hit_arg 2 out of 2\n"
     ]
    },
    {
     "name": "stderr",
     "output_type": "stream",
     "text": [
      "line 1:49 extraneous input ';' expecting {<EOF>, Identifier}\n"
     ]
    },
    {
     "data": {
      "text/plain": [
       "(1, 2)"
      ]
     },
     "execution_count": 43,
     "metadata": {},
     "output_type": "execute_result"
    }
   ],
   "source": [
    "extracted_functions = handle_response(result)\n",
    "calc_hit_fn_arg(json.loads( d[\"answers\"]), extracted_functions)"
   ]
  },
  {
   "cell_type": "code",
   "execution_count": 44,
   "metadata": {},
   "outputs": [
    {
     "name": "stdout",
     "output_type": "stream",
     "text": [
      "------------\n",
      "\n",
      "\n",
      "{\n",
      "    \"id\": 103,\n",
      "    \"query\": \"What is the recommended daily calorie intake and macronutrient distribution for a 30-year-old male, weighing 75 kg, 180 cm tall, moderately active, aiming to maintain weight?\",\n",
      "    \"answers\": [\n",
      "        {\n",
      "            \"name\": \"calculate_calorie_intake\",\n",
      "            \"arguments\": {\n",
      "                \"weight_kg\": 75,\n",
      "                \"height_cm\": 180,\n",
      "                \"age\": 30,\n",
      "                \"sex\": \"male\",\n",
      "                \"activity_level\": 3,\n",
      "                \"goal\": \"maintain\",\n",
      "            },\n",
      "        }\n",
      "    ],\n",
      "    \"tools\": [\n",
      "        {\n",
      "            \"name\": \"calculate_calorie_intake\",\n",
      "            \"description\": \"Calculates the recommended daily calorie intake and macronutrient distribution based on personal characteristics and goals.\",\n",
      "            \"parameters\": {\n",
      "                \"weight_kg\": {\n",
      "                    \"description\": \"Body weight in kilograms.\",\n",
      "                    \"type\": \"float\",\n",
      "                },\n",
      "                \"height_cm\": {\"description\": \"Height in centimeters.\", \"type\": \"float\"},\n",
      "                \"age\": {\"description\": \"Age in years.\", \"type\": \"int\"},\n",
      "                \"sex\": {\n",
      "                    \"description\": \"Biological sex, either 'male' or 'female'.\",\n",
      "                    \"type\": \"str\",\n",
      "                },\n",
      "                \"activity_level\": {\n",
      "                    \"description\": \"Activity level on a scale of 1 to 5 (1 = sedentary, 5 = extremely active).\",\n",
      "                    \"type\": \"int\",\n",
      "                },\n",
      "                \"goal\": {\n",
      "                    \"description\": \"Fitness goal, either 'lose', 'maintain', or 'gain'.\",\n",
      "                    \"type\": \"str\",\n",
      "                },\n",
      "            },\n",
      "        },\n",
      "        {\n",
      "            \"name\": \"assess_diabetes_risk\",\n",
      "            \"description\": \"Assesses the risk of developing type 2 diabetes based on body mass index (BMI) and physical activity level.\",\n",
      "            \"parameters\": {\n",
      "                \"weight_lbs\": {\"description\": \"Body weight in pounds.\", \"type\": \"int\"},\n",
      "                \"height_inches\": {\"description\": \"Height in inches.\", \"type\": \"int\"},\n",
      "                \"activity\": {\n",
      "                    \"description\": 'Physical activity level. Allowed values: \"sedentary\", \"lightly active\", \"moderately active\", or \"very active\".',\n",
      "                    \"type\": \"str\",\n",
      "                },\n",
      "            },\n",
      "        },\n",
      "        {\n",
      "            \"name\": \"place_safeway_order\",\n",
      "            \"description\": \"Order specified items from a Safeway location.\",\n",
      "            \"parameters\": {\n",
      "                \"location\": {\n",
      "                    \"description\": \"The location of the Safeway store, e.g., 'Palo Alto, CA'.\",\n",
      "                    \"type\": \"str\",\n",
      "                },\n",
      "                \"items\": {\"description\": \"List of items to order.\", \"type\": \"list\"},\n",
      "                \"quantity\": {\n",
      "                    \"description\": \"Quantity of each item in the order list.\",\n",
      "                    \"type\": \"list\",\n",
      "                },\n",
      "            },\n",
      "        },\n",
      "        {\n",
      "            \"name\": \"get_ip_location\",\n",
      "            \"description\": \"Retrieves the latitude and longitude coordinates of a given IP address using the ip-api.com API.\",\n",
      "            \"parameters\": {\n",
      "                \"ip\": {\"description\": \"The IP address to locate.\", \"type\": \"str\"}\n",
      "            },\n",
      "        },\n",
      "        {\n",
      "            \"name\": \"is_valid_ip_address\",\n",
      "            \"description\": \"Checks if a string is a valid IP address (IPv4).\",\n",
      "            \"parameters\": {\n",
      "                \"ip\": {\"description\": \"The string to check.\", \"type\": \"str\"}\n",
      "            },\n",
      "        },\n",
      "        {\n",
      "            \"name\": \"get_pokemon_move_info\",\n",
      "            \"description\": \"Retrieves information about a Pokémon's move using the PokéAPI.\",\n",
      "            \"parameters\": {\n",
      "                \"pokemon_name\": {\n",
      "                    \"description\": \"The name of the Pokémon.\",\n",
      "                    \"type\": \"str\",\n",
      "                    \"default\": \"run\",\n",
      "                },\n",
      "                \"move_name\": {\n",
      "                    \"description\": 'The name of the move to check. Defaults to \"run\".',\n",
      "                    \"type\": \"str, optional\",\n",
      "                    \"default\": \"run\",\n",
      "                },\n",
      "            },\n",
      "        },\n",
      "        {\n",
      "            \"name\": \"is_hotel_available\",\n",
      "            \"description\": \"Checks the availability of a hotel for a given date range.\",\n",
      "            \"parameters\": {\n",
      "                \"hotel\": {\"description\": \"The name of the hotel.\", \"type\": \"str\"},\n",
      "                \"city\": {\n",
      "                    \"description\": \"The city where the hotel is located.\",\n",
      "                    \"type\": \"str\",\n",
      "                },\n",
      "                \"checkin\": {\n",
      "                    \"description\": 'The check-in date in the format \"YYYY-MM-DD\".',\n",
      "                    \"type\": \"str\",\n",
      "                },\n",
      "                \"checkout\": {\n",
      "                    \"description\": 'The check-out date in the format \"YYYY-MM-DD\".',\n",
      "                    \"type\": \"str\",\n",
      "                },\n",
      "            },\n",
      "        },\n",
      "        {\n",
      "            \"name\": \"get_holidays_by_year\",\n",
      "            \"description\": \"Retrieves the list of public holidays for a given year and country using the Nager.Date API.\",\n",
      "            \"parameters\": {\n",
      "                \"year\": {\n",
      "                    \"description\": \"The year for which to retrieve the holidays.\",\n",
      "                    \"type\": \"int\",\n",
      "                },\n",
      "                \"country_code\": {\n",
      "                    \"description\": \"The two-letter ISO 3166-1 alpha-2 country code.\",\n",
      "                    \"type\": \"str\",\n",
      "                },\n",
      "            },\n",
      "        },\n",
      "    ],\n",
      "}\n",
      "\n",
      "------------\n",
      "\n",
      "\n",
      "```shonqol\n",
      "calculate_calorie_intake(75, 180, 30, \"male\", 3, \"maintain\");\n",
      "```\n"
     ]
    }
   ],
   "source": [
    "d = df.iloc[103].to_dict()\n",
    "result = llm.invoke(d)\n",
    "print_res(d, result, just_ans=False)"
   ]
  },
  {
   "cell_type": "code",
   "execution_count": 45,
   "metadata": {},
   "outputs": [
    {
     "name": "stdout",
     "output_type": "stream",
     "text": [
      "Extracted function calls from AST:\n",
      "[\n",
      "    {\n",
      "        \"name\": \"calculate_calorie_intake\",\n",
      "        \"arguments\": [\n",
      "            75,\n",
      "            180,\n",
      "            30,\n",
      "            \"male\",\n",
      "            3,\n",
      "            \"maintain\"\n",
      "        ]\n",
      "    }\n",
      "]\n",
      "hit_fn 1 out of 1\n",
      "hit_arg 6 out of 6\n"
     ]
    },
    {
     "name": "stderr",
     "output_type": "stream",
     "text": [
      "line 1:60 extraneous input ';' expecting {<EOF>, Identifier}\n"
     ]
    },
    {
     "data": {
      "text/plain": [
       "(1, 6)"
      ]
     },
     "execution_count": 45,
     "metadata": {},
     "output_type": "execute_result"
    }
   ],
   "source": [
    "extracted_functions = handle_response(result)\n",
    "calc_hit_fn_arg(json.loads( d[\"answers\"]), extracted_functions)"
   ]
  },
  {
   "cell_type": "code",
   "execution_count": 46,
   "metadata": {},
   "outputs": [
    {
     "name": "stdout",
     "output_type": "stream",
     "text": [
      "------------\n",
      "\n",
      "\n",
      "{\n",
      "    \"id\": 586,\n",
      "    \"query\": \"I'm curious about the neuronal activity rate when the synaptic input rate is 100 per second, with a synaptic weight of 0.5 and a decay constant of 0.05. Also, could you check if 17 is a prime number and solve the quadratic equation 2x^2 - 3x + 1 = 0?\",\n",
      "    \"answers\": [\n",
      "        {\n",
      "            \"name\": \"neuronal_activity_rate\",\n",
      "            \"arguments\": {\n",
      "                \"synaptic_input_rate\": 100,\n",
      "                \"synaptic_weight\": 0.5,\n",
      "                \"decay_constant\": 0.05,\n",
      "            },\n",
      "        },\n",
      "        {\"name\": \"is_prime\", \"arguments\": {\"num\": 17}},\n",
      "        {\"name\": \"solve_quadratic\", \"arguments\": {\"a\": 2, \"b\": -3, \"c\": 1}},\n",
      "    ],\n",
      "}\n",
      "\n",
      "------------\n",
      "\n",
      "\n",
      "```shonqol\n",
      "neuronal_activity = neuronal_activity_rate(100, 0.5, 0.05);\n",
      "is_seventeen_prime = is_prime(17);\n",
      "quadratic_roots = solve_quadratic(2, -3, 1);\n",
      "```\n"
     ]
    }
   ],
   "source": [
    "d = df.iloc[586].to_dict()\n",
    "result = llm.invoke(d)\n",
    "print_res(d, result, just_ans=True)"
   ]
  },
  {
   "cell_type": "code",
   "execution_count": 50,
   "metadata": {},
   "outputs": [
    {
     "name": "stdout",
     "output_type": "stream",
     "text": [
      "Extracted function calls from AST:\n",
      "[\n",
      "    {\n",
      "        \"name\": \"neuronal_activity_rate\",\n",
      "        \"arguments\": [\n",
      "            100,\n",
      "            0.5,\n",
      "            0.05\n",
      "        ]\n",
      "    },\n",
      "    {\n",
      "        \"name\": \"is_prime\",\n",
      "        \"arguments\": [\n",
      "            17\n",
      "        ]\n",
      "    },\n",
      "    {\n",
      "        \"name\": \"solve_quadratic\",\n",
      "        \"arguments\": [\n",
      "            2,\n",
      "            -3,\n",
      "            1\n",
      "        ]\n",
      "    }\n",
      "]\n",
      "hit_fn 3 out of 3\n",
      "hit_arg 7 out of 7\n"
     ]
    },
    {
     "data": {
      "text/plain": [
       "(3, 7)"
      ]
     },
     "execution_count": 50,
     "metadata": {},
     "output_type": "execute_result"
    }
   ],
   "source": [
    "extracted_functions = handle_response(result)\n",
    "calc_hit_fn_arg(json.loads( d[\"answers\"]), extracted_functions)"
   ]
  },
  {
   "cell_type": "code",
   "execution_count": 12,
   "metadata": {},
   "outputs": [
    {
     "name": "stdout",
     "output_type": "stream",
     "text": [
      "------------\n",
      "\n",
      "\n",
      "{\n",
      "    \"id\": 998,\n",
      "    \"query\": \"List all tokens on the Ethereum network.\",\n",
      "    \"answers\": [{\"name\": \"tokens\", \"arguments\": {\"network\": \"ethereum\"}}],\n",
      "}\n",
      "\n",
      "------------\n",
      "\n",
      "\n",
      "```shonqol\n",
      "tokens(\"ethereum\");\n",
      "```\n"
     ]
    }
   ],
   "source": [
    "d = df.iloc[998].to_dict()\n",
    "result = llm.invoke(d)\n",
    "print_res(\n",
    "    d,\n",
    "    result,\n",
    ")"
   ]
  },
  {
   "cell_type": "code",
   "execution_count": 13,
   "metadata": {},
   "outputs": [
    {
     "name": "stdout",
     "output_type": "stream",
     "text": [
      "Extracted function calls from AST:\n",
      "[\n",
      "    {\n",
      "        \"name\": \"tokens\",\n",
      "        \"arguments\": [\n",
      "            \"ethereum\"\n",
      "        ]\n",
      "    }\n",
      "]\n",
      "hit_fn 1 out of 1\n",
      "hit_arg 1 out of 1\n"
     ]
    },
    {
     "name": "stderr",
     "output_type": "stream",
     "text": [
      "line 1:18 extraneous input ';' expecting {<EOF>, Identifier}\n"
     ]
    },
    {
     "data": {
      "text/plain": [
       "(1, 1)"
      ]
     },
     "execution_count": 13,
     "metadata": {},
     "output_type": "execute_result"
    }
   ],
   "source": [
    "extracted_functions = handle_response(result)\n",
    "calc_hit_fn_arg(json.loads( d[\"answers\"]), extracted_functions)"
   ]
  },
  {
   "cell_type": "code",
   "execution_count": 17,
   "metadata": {},
   "outputs": [
    {
     "name": "stdout",
     "output_type": "stream",
     "text": [
      "------------\n",
      "\n",
      "\n",
      "{\n",
      "    \"id\": 107,\n",
      "    \"query\": \"I'm conducting a research study and need the men's marks for points values of 10, 20, 30, 40, and 50 to observe the trend in the lower range.\",\n",
      "    \"answers\": [\n",
      "        {\"name\": \"marks_men_points\", \"arguments\": {\"points\": 10}},\n",
      "        {\"name\": \"marks_men_points\", \"arguments\": {\"points\": 20}},\n",
      "        {\"name\": \"marks_men_points\", \"arguments\": {\"points\": 30}},\n",
      "        {\"name\": \"marks_men_points\", \"arguments\": {\"points\": 40}},\n",
      "        {\"name\": \"marks_men_points\", \"arguments\": {\"points\": 50}},\n",
      "    ],\n",
      "}\n",
      "\n",
      "------------\n",
      "\n",
      "\n",
      "```shonqol\n",
      "marks_10 = marks_men_points(10);\n",
      "marks_20 = marks_men_points(20);\n",
      "marks_30 = marks_men_points(30);\n",
      "marks_40 = marks_men_points(40);\n",
      "marks_50 = marks_men_points(50);\n",
      "```\n"
     ]
    }
   ],
   "source": [
    "import json\n",
    "\n",
    "for _, row in df.iterrows():\n",
    "\n",
    "    v = json.loads(str(row[\"answers\"]))\n",
    "    if not isinstance(v, list):\n",
    "        continue\n",
    "    if len(v) > 3:\n",
    "        d = row.to_dict()\n",
    "        \n",
    "        break\n",
    "result = llm.invoke(d)\n",
    "print_res(d, result, just_ans=True)"
   ]
  },
  {
   "cell_type": "code",
   "execution_count": 18,
   "metadata": {},
   "outputs": [
    {
     "name": "stdout",
     "output_type": "stream",
     "text": [
      "Extracted function calls from AST:\n",
      "[\n",
      "    {\n",
      "        \"name\": \"marks_men_points\",\n",
      "        \"arguments\": [\n",
      "            10\n",
      "        ]\n",
      "    },\n",
      "    {\n",
      "        \"name\": \"marks_men_points\",\n",
      "        \"arguments\": [\n",
      "            20\n",
      "        ]\n",
      "    },\n",
      "    {\n",
      "        \"name\": \"marks_men_points\",\n",
      "        \"arguments\": [\n",
      "            30\n",
      "        ]\n",
      "    },\n",
      "    {\n",
      "        \"name\": \"marks_men_points\",\n",
      "        \"arguments\": [\n",
      "            40\n",
      "        ]\n",
      "    },\n",
      "    {\n",
      "        \"name\": \"marks_men_points\",\n",
      "        \"arguments\": [\n",
      "            50\n",
      "        ]\n",
      "    }\n",
      "]\n",
      "hit_fn 5 out of 5\n",
      "hit_arg 5 out of 5\n"
     ]
    },
    {
     "data": {
      "text/plain": [
       "(5, 5)"
      ]
     },
     "execution_count": 18,
     "metadata": {},
     "output_type": "execute_result"
    }
   ],
   "source": [
    "extracted_functions = handle_response(result)\n",
    "calc_hit_fn_arg(json.loads( d[\"answers\"]), extracted_functions)"
   ]
  },
  {
   "cell_type": "code",
   "execution_count": 21,
   "metadata": {},
   "outputs": [
    {
     "data": {
      "text/html": [
       "<div>\n",
       "<style scoped>\n",
       "    .dataframe tbody tr th:only-of-type {\n",
       "        vertical-align: middle;\n",
       "    }\n",
       "\n",
       "    .dataframe tbody tr th {\n",
       "        vertical-align: top;\n",
       "    }\n",
       "\n",
       "    .dataframe thead th {\n",
       "        text-align: right;\n",
       "    }\n",
       "</style>\n",
       "<table border=\"1\" class=\"dataframe\">\n",
       "  <thead>\n",
       "    <tr style=\"text-align: right;\">\n",
       "      <th></th>\n",
       "      <th>id</th>\n",
       "      <th>query</th>\n",
       "      <th>answers</th>\n",
       "      <th>tools</th>\n",
       "    </tr>\n",
       "  </thead>\n",
       "  <tbody>\n",
       "    <tr>\n",
       "      <th>18675</th>\n",
       "      <td>18675</td>\n",
       "      <td>Fetch the 5-day forecast for London's coordina...</td>\n",
       "      <td>[{\"name\": \"daily_forecast_5_days\", \"arguments\"...</td>\n",
       "      <td>[{\"name\": \"alerts_active_zone_zoneid\", \"descri...</td>\n",
       "    </tr>\n",
       "  </tbody>\n",
       "</table>\n",
       "</div>"
      ],
      "text/plain": [
       "          id                                              query  \\\n",
       "18675  18675  Fetch the 5-day forecast for London's coordina...   \n",
       "\n",
       "                                                 answers  \\\n",
       "18675  [{\"name\": \"daily_forecast_5_days\", \"arguments\"...   \n",
       "\n",
       "                                                   tools  \n",
       "18675  [{\"name\": \"alerts_active_zone_zoneid\", \"descri...  "
      ]
     },
     "execution_count": 21,
     "metadata": {},
     "output_type": "execute_result"
    }
   ],
   "source": [
    "df.sample(1)"
   ]
  },
  {
   "cell_type": "code",
   "execution_count": 23,
   "metadata": {},
   "outputs": [
    {
     "name": "stdout",
     "output_type": "stream",
     "text": [
      "------------\n",
      "\n",
      "\n",
      "{\n",
      "    \"id\": 57109,\n",
      "    \"query\": \"Get the latest coronavirus news for France.\",\n",
      "    \"answers\": [{\"name\": \"getnews\", \"arguments\": {\"location\": \"FR\"}}],\n",
      "}\n",
      "\n",
      "------------\n",
      "\n",
      "\n",
      "```shonqol\n",
      "getnews(\"FR\");\n",
      "```\n",
      "hit_fn 1 out of 1\n",
      "hit_arg 1 out of 1\n",
      "----------------------------------------\n"
     ]
    },
    {
     "name": "stderr",
     "output_type": "stream",
     "text": [
      "line 1:13 extraneous input ';' expecting {<EOF>, Identifier}\n"
     ]
    },
    {
     "name": "stdout",
     "output_type": "stream",
     "text": [
      "------------\n",
      "\n",
      "\n",
      "{\n",
      "    \"id\": 57817,\n",
      "    \"query\": \"What is the duration between a note with a frequency of 440 Hz and a note with a frequency of 660 Hz, given a tempo of 60 beats per minute? Also, find the longest palindromic substring in the string 'racecar is racing'.\",\n",
      "    \"answers\": [\n",
      "        {\"name\": \"note_duration\", \"arguments\": {\"freq1\": 440, \"freq2\": 660, \"bpm\": 60}},\n",
      "        {\n",
      "            \"name\": \"find_longest_palindromic_substring\",\n",
      "            \"arguments\": {\"s\": \"racecar is racing\"},\n",
      "        },\n",
      "    ],\n",
      "}\n",
      "\n",
      "------------\n",
      "\n",
      "\n",
      "```shonqol\n",
      "duration = note_duration(440, 660, 60);\n",
      "longest_palindrome = find_longest_palindromic_substring(\"racecar is racing\");\n",
      "```\n",
      "hit_fn 2 out of 2\n",
      "hit_arg 4 out of 4\n",
      "----------------------------------------\n",
      "------------\n",
      "\n",
      "\n",
      "{\n",
      "    \"id\": 29952,\n",
      "    \"query\": \"Fetch OpenGraph and Meta tags from the website of a popular news outlet.\",\n",
      "    \"answers\": [{\"name\": \"og\", \"arguments\": {\"url\": \"https://www.bbc.com/\"}}],\n",
      "}\n",
      "\n",
      "------------\n",
      "\n",
      "\n",
      "```shonqol\n",
      "og(\"https://www.bbc.com\");\n",
      "```\n",
      "hit_fn 1 out of 1\n",
      "hit_arg 0 out of 1\n",
      "----------------------------------------\n"
     ]
    },
    {
     "name": "stderr",
     "output_type": "stream",
     "text": [
      "line 1:25 extraneous input ';' expecting {<EOF>, Identifier}\n"
     ]
    },
    {
     "name": "stdout",
     "output_type": "stream",
     "text": [
      "------------\n",
      "\n",
      "\n",
      "{\n",
      "    \"id\": 7800,\n",
      "    \"query\": \"Find the missing number in the list [0, 1, 2, 3, 5, 6, 7, 8, 9] which should contain numbers from 0 to 9.\",\n",
      "    \"answers\": [\n",
      "        {\n",
      "            \"name\": \"find_missing_number\",\n",
      "            \"arguments\": {\"nums\": [0, 1, 2, 3, 5, 6, 7, 8, 9]},\n",
      "        }\n",
      "    ],\n",
      "}\n",
      "\n",
      "------------\n",
      "\n",
      "\n",
      "```shonqol\n",
      "missing_number = find_missing_number([0, 1, 2, 3, 5, 6, 7, 8, 9]);\n",
      "```\n",
      "hit_fn 1 out of 1\n",
      "hit_arg 0 out of 1\n",
      "----------------------------------------\n"
     ]
    },
    {
     "name": "stderr",
     "output_type": "stream",
     "text": [
      "line 1:37 token recognition error at: '['\n",
      "line 1:63 token recognition error at: ']'\n"
     ]
    },
    {
     "name": "stdout",
     "output_type": "stream",
     "text": [
      "------------\n",
      "\n",
      "\n",
      "{\n",
      "    \"id\": 23626,\n",
      "    \"query\": \"Locate the peak in the list [33, 35, 37, 39, 41] and find out how long light takes to travel 20 light years.\",\n",
      "    \"answers\": [\n",
      "        {\"name\": \"find_peak_element\", \"arguments\": {\"nums\": [33, 35, 37, 39, 41]}},\n",
      "        {\"name\": \"light_travel_time\", \"arguments\": {\"distance_in_light_years\": 20}},\n",
      "    ],\n",
      "}\n",
      "\n",
      "------------\n",
      "\n",
      "\n",
      "```shonqol\n",
      "peak = find_peak_element([33, 35, 37, 39, 41]);\n",
      "lightTime = light_travel_time(20);\n",
      "```\n",
      "hit_fn 2 out of 2\n",
      "hit_arg 1 out of 2\n",
      "----------------------------------------\n"
     ]
    },
    {
     "name": "stderr",
     "output_type": "stream",
     "text": [
      "line 1:25 token recognition error at: '['\n",
      "line 1:44 token recognition error at: ']'\n"
     ]
    },
    {
     "name": "stdout",
     "output_type": "stream",
     "text": [
      "------------\n",
      "\n",
      "\n",
      "{\n",
      "    \"id\": 30101,\n",
      "    \"query\": \"Get AI learning resources from page 3.\",\n",
      "    \"answers\": [{\"name\": \"getlearningresources\", \"arguments\": {\"page\": 3}}],\n",
      "}\n",
      "\n",
      "------------\n",
      "\n",
      "\n",
      "```shonqol\n",
      "getlearningresources(3);\n",
      "```\n",
      "hit_fn 1 out of 1\n",
      "hit_arg 1 out of 1\n",
      "----------------------------------------\n"
     ]
    },
    {
     "name": "stderr",
     "output_type": "stream",
     "text": [
      "line 1:23 extraneous input ';' expecting {<EOF>, Identifier}\n"
     ]
    },
    {
     "name": "stdout",
     "output_type": "stream",
     "text": [
      "------------\n",
      "\n",
      "\n",
      "{\n",
      "    \"id\": 48608,\n",
      "    \"query\": \"What is the probability of getting exactly 5 heads in 15 coin flips, where each flip has a probability of 0.4 for heads? Also, find the 11th smallest number in the list [5, 10, 15, 20, 25, 30, 35, 40, 45, 50, 55, 60, 65, 70, 75].\",\n",
      "    \"answers\": [\n",
      "        {\"name\": \"binomial_probability\", \"arguments\": {\"n\": 15, \"k\": 5, \"p\": 0.4}},\n",
      "        {\n",
      "            \"name\": \"find_kth_smallest_number\",\n",
      "            \"arguments\": {\n",
      "                \"nums\": [5, 10, 15, 20, 25, 30, 35, 40, 45, 50, 55, 60, 65, 70, 75],\n",
      "                \"k\": 11,\n",
      "            },\n",
      "        },\n",
      "    ],\n",
      "}\n",
      "\n",
      "------------\n",
      "\n",
      "\n",
      "```shonqol\n",
      "probability = binomial_probability(15, 5, 0.4);\n",
      "kth_smallest = find_kth_smallest_number([5, 10, 15, 20, 25, 30, 35, 40, 45, 50, 55, 60, 65, 70, 75], 11);\n",
      "```\n",
      "hit_fn 2 out of 2\n",
      "hit_arg 4 out of 5\n",
      "----------------------------------------\n"
     ]
    },
    {
     "name": "stderr",
     "output_type": "stream",
     "text": [
      "line 2:40 token recognition error at: '['\n",
      "line 2:98 token recognition error at: ']'\n"
     ]
    },
    {
     "name": "stdout",
     "output_type": "stream",
     "text": [
      "------------\n",
      "\n",
      "\n",
      "{\n",
      "    \"id\": 54693,\n",
      "    \"query\": \"The user 'john_smith' needs to verify his account on Petstore Blitz. Can you fetch his information?\",\n",
      "    \"answers\": [{\"name\": \"getuserbyname\", \"arguments\": {\"username\": \"john_smith\"}}],\n",
      "}\n",
      "\n",
      "------------\n",
      "\n",
      "\n",
      "```shonqol\n",
      "getuserbyname(\"john_smith\");\n",
      "```\n",
      "hit_fn 1 out of 1\n",
      "hit_arg 1 out of 1\n",
      "----------------------------------------\n"
     ]
    },
    {
     "name": "stderr",
     "output_type": "stream",
     "text": [
      "line 1:27 extraneous input ';' expecting {<EOF>, Identifier}\n"
     ]
    },
    {
     "name": "stdout",
     "output_type": "stream",
     "text": [
      "------------\n",
      "\n",
      "\n",
      "{\n",
      "    \"id\": 20864,\n",
      "    \"query\": \"Are jobs 678901 and 234567 still processing?\",\n",
      "    \"answers\": [\n",
      "        {\"name\": \"get_job_status\", \"arguments\": {\"is_id\": \"678901\"}},\n",
      "        {\"name\": \"get_job_status\", \"arguments\": {\"is_id\": \"234567\"}},\n",
      "    ],\n",
      "}\n",
      "\n",
      "------------\n",
      "\n",
      "\n",
      "```shonqol\n",
      "status1 = get_job_status(\"678901\");\n",
      "status2 = get_job_status(\"234567\");\n",
      "\n",
      "isProcessing1 = conditionalSelect(\n",
      "    equal(status1, \"processing\"),\n",
      "    \"Job 678901 is still processing.\",\n",
      "    \"Job 678901 is not processing.\"\n",
      ");\n",
      "\n",
      "isProcessing2 = conditionalSelect(\n",
      "    equal(status2, \"processing\"),\n",
      "    \"Job 234567 is still processing.\",\n",
      "    \"Job 234567 is not processing.\"\n",
      ");\n",
      "\n",
      "print(isProcessing1);\n",
      "print(isProcessing2);\n",
      "```\n",
      "hit_fn 2 out of 2\n",
      "hit_arg 2 out of 2\n",
      "----------------------------------------\n"
     ]
    },
    {
     "name": "stderr",
     "output_type": "stream",
     "text": [
      "line 16:20 extraneous input ';' expecting {<EOF>, Identifier}\n",
      "line 17:20 extraneous input ';' expecting {<EOF>, Identifier}\n"
     ]
    },
    {
     "name": "stdout",
     "output_type": "stream",
     "text": [
      "------------\n",
      "\n",
      "\n",
      "{\n",
      "    \"id\": 20142,\n",
      "    \"query\": \"List all holidays in the USA for the year 2023.\",\n",
      "    \"answers\": [\n",
      "        {\n",
      "            \"name\": \"get_holidays_by_year\",\n",
      "            \"arguments\": {\"year\": 2023, \"country_code\": \"US\"},\n",
      "        }\n",
      "    ],\n",
      "}\n",
      "\n",
      "------------\n",
      "\n",
      "\n",
      "```shonqol\n",
      "get_holidays_by_year(2023, \"US\");\n",
      "```\n",
      "hit_fn 1 out of 1\n",
      "hit_arg 2 out of 2\n",
      "----------------------------------------\n"
     ]
    },
    {
     "name": "stderr",
     "output_type": "stream",
     "text": [
      "line 1:32 extraneous input ';' expecting {<EOF>, Identifier}\n"
     ]
    }
   ],
   "source": [
    "# Choose 10 random entries from the DataFrame\n",
    "import os\n",
    "\n",
    "\n",
    "sample_df = df.sample(10)\n",
    "if not os.path.exists(\"outputs\"):\n",
    "    os.makedirs(\"outputs\")\n",
    "for idx, row in sample_df.iterrows():\n",
    "    d = row.to_dict()\n",
    "    # Call the language model as done in previous cells\n",
    "    result = llm.invoke(d)\n",
    "    print_res(d, result)\n",
    "    \n",
    "    # Process extracted functions and calculate hit metrics\n",
    "    extracted_functions = handle_response(result)\n",
    "    hit_result=calc_hit_fn_arg(json.loads(d[\"answers\"]), extracted_functions)\n",
    "    print(\"-\" * 40)\n",
    "    \n",
    "    # Write d, result, and extracted_functions to a json file\n",
    "    data_to_save = {\n",
    "        'id':d['id'],\n",
    "        \"d\": d,\n",
    "        \"result\": result,\n",
    "        \"extracted_functions\": extracted_functions,\n",
    "        \"hit_results\":{ \"hit_fn\":hit_result[0], \"hit_arg\":hit_result[1]}\n",
    "    }\n",
    "    with open(f\"outputs/output_{d['id']}.json\", \"w\") as f:\n",
    "        json.dump(data_to_save, f, indent=2)"
   ]
  },
  {
   "cell_type": "code",
   "execution_count": null,
   "metadata": {},
   "outputs": [],
   "source": []
  }
 ],
 "metadata": {
  "kernelspec": {
   "display_name": "Python 3",
   "language": "python",
   "name": "python3"
  },
  "language_info": {
   "codemirror_mode": {
    "name": "ipython",
    "version": 3
   },
   "file_extension": ".py",
   "mimetype": "text/x-python",
   "name": "python",
   "nbconvert_exporter": "python",
   "pygments_lexer": "ipython3",
   "version": "3.12.8"
  }
 },
 "nbformat": 4,
 "nbformat_minor": 2
}
